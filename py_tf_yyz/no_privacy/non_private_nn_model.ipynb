{
  "nbformat": 4,
  "nbformat_minor": 0,
  "metadata": {
    "colab": {
      "name": "non_private_nn_model.ipynb",
      "version": "0.3.2",
      "provenance": [],
      "collapsed_sections": []
    },
    "kernelspec": {
      "name": "python3",
      "display_name": "Python 3"
    },
    "accelerator": "GPU"
  },
  "cells": [
    {
      "cell_type": "markdown",
      "metadata": {
        "id": "Zbr2l8uUSnCI",
        "colab_type": "text"
      },
      "source": [
        "## Import statements"
      ]
    },
    {
      "cell_type": "code",
      "metadata": {
        "id": "XlQX9xLHDqSH",
        "colab_type": "code",
        "colab": {}
      },
      "source": [
        "from __future__ import absolute_import\n",
        "from __future__ import division\n",
        "from __future__ import print_function\n",
        "\n",
        "import tensorflow as tf\n",
        "import pandas as pd\n",
        "import numpy as np\n",
        "import keras\n",
        "\n",
        "from keras.layers import Dense\n",
        "from keras.models import Sequential\n",
        "from keras.utils import to_categorical\n",
        "from sklearn.model_selection import train_test_split"
      ],
      "execution_count": 0,
      "outputs": []
    },
    {
      "cell_type": "markdown",
      "metadata": {
        "id": "O7bLemiUSrN1",
        "colab_type": "text"
      },
      "source": [
        "## Function definitions"
      ]
    },
    {
      "cell_type": "code",
      "metadata": {
        "id": "CfqrNrsiFFmp",
        "colab_type": "code",
        "colab": {}
      },
      "source": [
        "def data_processing(datafile):\n",
        "    data = pd.read_csv(datafile)\n",
        "\n",
        "    target = data['action_taken_name']                                          # 'action_take_name': loan approval (1), loan denial (0)\n",
        "    target = to_categorical(target) \n",
        "    \n",
        "    predictors = data.drop(['action_taken_name'], axis=1)\n",
        "    predictors = predictors.drop(predictors.columns[0], axis=1)\n",
        "    \n",
        "    n_cols = predictors.shape[1]\n",
        "\n",
        "    return n_cols, predictors, target"
      ],
      "execution_count": 0,
      "outputs": []
    },
    {
      "cell_type": "code",
      "metadata": {
        "id": "yLylJp9MRqar",
        "colab_type": "code",
        "colab": {}
      },
      "source": [
        "def auc(y_true, y_pred):\n",
        "    auc = tf.metrics.auc(y_true, y_pred)[1]                                     # tf.metrics.auc may produce a slightly different value compared to sklearn.metrics.roc_auc_score\n",
        "    keras.backend.get_session().run(tf.local_variables_initializer())\n",
        "    return auc"
      ],
      "execution_count": 0,
      "outputs": []
    },
    {
      "cell_type": "code",
      "metadata": {
        "id": "DdrESMqnS399",
        "colab_type": "code",
        "colab": {}
      },
      "source": [
        "def train_model(datafile='nc_sc_ga_va_clean_v0.csv', epochs=10, batch_size=512, optimizer='adam', loss='categorical_crossentropy', test_size=0.2):\n",
        "    # Process input datafile\n",
        "    n_cols, predictors, target = data_processing(datafile)\n",
        "    x_train, x_test, y_train, y_test = train_test_split(predictors, target, test_size=test_size, random_state=0)\n",
        "\n",
        "    # Define layers\n",
        "    model = keras.models.Sequential([\n",
        "            keras.layers.Dense(32, activation=tf.nn.relu, input_shape = (n_cols,)),\n",
        "            keras.layers.Dense(2, activation=tf.nn.relu),\n",
        "            keras.layers.Dense(20, activation=tf.nn.relu),\n",
        "            keras.layers.Dense(2, activation=tf.nn.softmax)\n",
        "        ])\n",
        "    \n",
        "    # Train model\n",
        "    print('\\n# Begin training')\n",
        "    model.compile(optimizer=optimizer, loss=loss, metrics=['accuracy', auc])\n",
        "    model.fit(x_train, y_train, epochs=epochs, batch_size=batch_size, verbose = 1)\n",
        "\n",
        "    # Evaluate model\n",
        "    print('\\n# Evaluate on test data')\n",
        "    results = model.evaluate(x_test, y_test, batch_size=batch_size)\n",
        "    print('\\n# Test results')\n",
        "    print('Test loss: {:.4f} \\nTest AUC: {:.4f} \\nTest accuracy: {:.2f}%'.format(results[0], results[2], results[1]*100))  \n",
        "    \n",
        "    return model"
      ],
      "execution_count": 0,
      "outputs": []
    },
    {
      "cell_type": "markdown",
      "metadata": {
        "id": "MclqiMieWsox",
        "colab_type": "text"
      },
      "source": [
        "## Train model"
      ]
    },
    {
      "cell_type": "code",
      "metadata": {
        "id": "U3iIRv_8UEVn",
        "colab_type": "code",
        "colab": {
          "base_uri": "https://localhost:8080/",
          "height": 527
        },
        "outputId": "914f8dc5-2831-466b-e8f0-288e4f8e9182"
      },
      "source": [
        "model = train_model()"
      ],
      "execution_count": 29,
      "outputs": [
        {
          "output_type": "stream",
          "text": [
            "\n",
            "# Begin training\n",
            "Epoch 1/10\n",
            "754883/754883 [==============================] - 12s 16us/step - loss: 0.4170 - acc: 0.8193 - auc: 0.8774\n",
            "Epoch 2/10\n",
            "754883/754883 [==============================] - 11s 15us/step - loss: 0.4029 - acc: 0.8269 - auc: 0.8927\n",
            "Epoch 3/10\n",
            "754883/754883 [==============================] - 11s 14us/step - loss: 0.4000 - acc: 0.8289 - auc: 0.8950\n",
            "Epoch 4/10\n",
            "754883/754883 [==============================] - 11s 15us/step - loss: 0.3987 - acc: 0.8296 - auc: 0.8963\n",
            "Epoch 5/10\n",
            "754883/754883 [==============================] - 11s 15us/step - loss: 0.3979 - acc: 0.8299 - auc: 0.8971\n",
            "Epoch 6/10\n",
            "754883/754883 [==============================] - 11s 15us/step - loss: 0.3976 - acc: 0.8299 - auc: 0.8977\n",
            "Epoch 7/10\n",
            "754883/754883 [==============================] - 11s 14us/step - loss: 0.3970 - acc: 0.8303 - auc: 0.8981\n",
            "Epoch 8/10\n",
            "754883/754883 [==============================] - 11s 15us/step - loss: 0.3968 - acc: 0.8304 - auc: 0.8985\n",
            "Epoch 9/10\n",
            "754883/754883 [==============================] - 11s 14us/step - loss: 0.3963 - acc: 0.8303 - auc: 0.8988\n",
            "Epoch 10/10\n",
            "754883/754883 [==============================] - 11s 15us/step - loss: 0.3962 - acc: 0.8305 - auc: 0.8990\n",
            "\n",
            "# Evaluate on test data\n",
            "188721/188721 [==============================] - 1s 8us/step\n",
            "\n",
            "# Test results\n",
            "Test loss: 0.3978 \n",
            "Test AUC: 0.8991 \n",
            "Test accuracy: 82.95%\n"
          ],
          "name": "stdout"
        }
      ]
    }
  ]
}