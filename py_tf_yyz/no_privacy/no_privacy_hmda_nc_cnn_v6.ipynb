{
  "nbformat": 4,
  "nbformat_minor": 0,
  "metadata": {
    "colab": {
      "name": "no_privacy_hmda_nc_cnn_v6.ipynb",
      "version": "0.3.2",
      "provenance": [],
      "collapsed_sections": []
    },
    "kernelspec": {
      "name": "python3",
      "display_name": "Python 3"
    },
    "accelerator": "GPU"
  },
  "cells": [
    {
      "cell_type": "markdown",
      "metadata": {
        "id": "brTW7h8AQRFu",
        "colab_type": "text"
      },
      "source": [
        "### Updates\n",
        "* get rid of run_model function\n",
        "* added codes to calculate confusion matrix\n",
        "* analyze weights and biases"
      ]
    },
    {
      "cell_type": "code",
      "metadata": {
        "id": "XlQX9xLHDqSH",
        "colab_type": "code",
        "colab": {}
      },
      "source": [
        "# Import General Libraries \n",
        "from __future__ import absolute_import\n",
        "from __future__ import division\n",
        "from __future__ import print_function\n",
        "\n",
        "import tensorflow as tf\n",
        "import pandas as pd\n",
        "import numpy as np\n",
        "import seaborn as sns\n",
        "import matplotlib.pyplot as plt\n",
        "\n",
        "# Deep Learning Libraries\n",
        "from keras.layers import Dense\n",
        "from keras.models import Sequential\n",
        "from keras.callbacks import EarlyStopping\n",
        "from sklearn.utils import class_weight\n",
        "from sklearn import preprocessing\n",
        "from keras.utils import to_categorical\n",
        "from sklearn.model_selection import train_test_split\n",
        "from sklearn.model_selection import KFold"
      ],
      "execution_count": 0,
      "outputs": []
    },
    {
      "cell_type": "code",
      "metadata": {
        "id": "KEqQyB4OFCKO",
        "colab_type": "code",
        "colab": {}
      },
      "source": [
        "# Parameters\n",
        "dpsgd = True\n",
        "learning_rate = 0.15\n",
        "noise_multiplier = 1.1\n",
        "l2_norm_clip = 1.0\n",
        "batch_size = 1\n",
        "epochs = 3\n",
        "microbatches = 1\n",
        "model_dir = None"
      ],
      "execution_count": 0,
      "outputs": []
    },
    {
      "cell_type": "code",
      "metadata": {
        "id": "CfqrNrsiFFmp",
        "colab_type": "code",
        "colab": {}
      },
      "source": [
        "def data_processing(version):\n",
        "    data = pd.read_csv('nc_sc_ga_va_clean_v0.csv')\n",
        "\n",
        "    target = data['action_taken_name']\n",
        "    target = to_categorical(target) \n",
        "    predictors = data.drop(['action_taken_name'], axis=1)\n",
        "    predictors = predictors.drop(predictors.columns[0], axis=1)\n",
        "    \n",
        "    return predictors, target"
      ],
      "execution_count": 0,
      "outputs": []
    },
    {
      "cell_type": "code",
      "metadata": {
        "id": "O4w11ga4FK70",
        "colab_type": "code",
        "outputId": "315c27e2-e846-4e7f-fcec-a0ded3e3651b",
        "colab": {
          "base_uri": "https://localhost:8080/",
          "height": 185
        }
      },
      "source": [
        "predictors, target = data_processing(7)\n",
        "\n",
        "n_cols = predictors.shape[1]\n",
        "\n",
        "model = tf.keras.Sequential([\n",
        "    tf.keras.layers.Dense(100, activation='relu', input_shape = (n_cols,)),\n",
        "      tf.keras.layers.Dense(25, activation='relu'),\n",
        "      tf.keras.layers.Dense(20, activation='relu'),\n",
        "      tf.keras.layers.Dense(2, activation='softmax'),\n",
        "])\n",
        "\n",
        "model.compile(optimizer='adam', loss = 'categorical_crossentropy', metrics=['accuracy'])\n",
        "\n",
        "x_train, x_test, y_train, y_test = train_test_split(predictors, target, test_size = 0.20, random_state = 0)\n",
        "\n",
        "model.fit(x_train, y_train, epochs=epochs, batch_size=batch_size, verbose = 1)\n",
        "\n",
        "print('\\n# Evaluate on test data')\n",
        "results = model.evaluate(x_test, y_test, batch_size=128)\n",
        "print('test loss, test acc:', results)"
      ],
      "execution_count": 22,
      "outputs": [
        {
          "output_type": "stream",
          "text": [
            "Epoch 1/3\n",
            "754883/754883 [==============================] - 2103s 3ms/sample - loss: 0.4058 - acc: 0.8268\n",
            "Epoch 2/3\n",
            "754883/754883 [==============================] - 3369s 4ms/sample - loss: 0.4018 - acc: 0.8282\n",
            "Epoch 3/3\n",
            "754883/754883 [==============================] - 1969s 3ms/sample - loss: 0.4015 - acc: 0.8287\n",
            "\n",
            "# Evaluate on test data\n",
            "188721/188721 [==============================] - 3s 14us/sample - loss: 0.4006 - acc: 0.8291\n",
            "test loss, test acc: [0.40055356973338935, 0.8291446]\n"
          ],
          "name": "stdout"
        }
      ]
    },
    {
      "cell_type": "code",
      "metadata": {
        "id": "W_Q9iLFFA9WN",
        "colab_type": "code",
        "outputId": "4208f63d-d9a5-408e-83f8-3e9b561d58cf",
        "colab": {
          "base_uri": "https://localhost:8080/",
          "height": 50
        }
      },
      "source": [
        "y_true = y_test\n",
        "\n",
        "y_true_one_col = []\n",
        "\n",
        "for row in y_true:\n",
        "    if row[1] == 1:\n",
        "        y_true_one_col.append(1)\n",
        "    else:\n",
        "        y_true_one_col.append(0)\n",
        "        \n",
        "y_true_one_col = np.asarray(y_true_one_col)\n",
        "\n",
        "from sklearn.metrics import confusion_matrix\n",
        "y_pred = model.predict(x_test)\n",
        "y_pred=np.argmax(y_pred, axis=1)\n",
        "confusion_matrix(y_true_one_col, y_pred)"
      ],
      "execution_count": 23,
      "outputs": [
        {
          "output_type": "execute_result",
          "data": {
            "text/plain": [
              "array([[  7061,  28624],\n",
              "       [  3620, 149416]])"
            ]
          },
          "metadata": {
            "tags": []
          },
          "execution_count": 23
        }
      ]
    },
    {
      "cell_type": "code",
      "metadata": {
        "id": "KGiyZqA6Oc8N",
        "colab_type": "code",
        "colab": {}
      },
      "source": [
        "def calc_di(prot_var_name, unprot_var_name):\n",
        "\n",
        "    prot_df = x_test[prot_var_name]\n",
        "    unprot_df = x_test[unprot_var_name]\n",
        "    \n",
        "    prot_total = prot_df.value_counts()[1]\n",
        "    unprot_total = unprot_df.value_counts()[1]\n",
        "    \n",
        "    prot_pred = np.argmax(model.predict(x_test[prot_df == 1]), axis = 1)\n",
        "    unprot_pred = np.argmax(model.predict(x_test[unprot_df == 1]), axis = 1)\n",
        "    \n",
        "    prot_1 = np.count_nonzero(prot_pred)\n",
        "    unprot_1 = np.count_nonzero(unprot_pred)\n",
        "    \n",
        "    return (prot_1/prot_total)/(unprot_1/unprot_total)"
      ],
      "execution_count": 0,
      "outputs": []
    },
    {
      "cell_type": "code",
      "metadata": {
        "id": "S2UhpgthOfkl",
        "colab_type": "code",
        "outputId": "41b9bc6c-b581-4ce2-9c1d-38efb2dfa0f6",
        "colab": {
          "base_uri": "https://localhost:8080/",
          "height": 34
        }
      },
      "source": [
        "calc_di('applicant_race_name_1_0', 'applicant_race_name_1_1')"
      ],
      "execution_count": 25,
      "outputs": [
        {
          "output_type": "execute_result",
          "data": {
            "text/plain": [
              "0.8601278228287698"
            ]
          },
          "metadata": {
            "tags": []
          },
          "execution_count": 25
        }
      ]
    },
    {
      "cell_type": "code",
      "metadata": {
        "id": "j4M6_aIPO9Eh",
        "colab_type": "code",
        "colab": {
          "base_uri": "https://localhost:8080/",
          "height": 34
        },
        "outputId": "77f0d000-4aaa-4358-b679-7103fbae4d1d"
      },
      "source": [
        "calc_di('applicant_ethnicity_name_Hispanic or Latino', 'applicant_ethnicity_name_Not Hispanic or Latino')"
      ],
      "execution_count": 26,
      "outputs": [
        {
          "output_type": "execute_result",
          "data": {
            "text/plain": [
              "0.9982569173950081"
            ]
          },
          "metadata": {
            "tags": []
          },
          "execution_count": 26
        }
      ]
    },
    {
      "cell_type": "code",
      "metadata": {
        "id": "wetxaSddPjeX",
        "colab_type": "code",
        "colab": {
          "base_uri": "https://localhost:8080/",
          "height": 34
        },
        "outputId": "48f73494-46df-4d9c-f540-3b68c2d95613"
      },
      "source": [
        "calc_di('applicant_sex_name_Female', 'applicant_sex_name_Male')"
      ],
      "execution_count": 27,
      "outputs": [
        {
          "output_type": "execute_result",
          "data": {
            "text/plain": [
              "0.9598980633402103"
            ]
          },
          "metadata": {
            "tags": []
          },
          "execution_count": 27
        }
      ]
    }
  ]
}